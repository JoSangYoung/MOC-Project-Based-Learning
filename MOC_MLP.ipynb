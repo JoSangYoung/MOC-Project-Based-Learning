{
  "nbformat": 4,
  "nbformat_minor": 0,
  "metadata": {
    "colab": {
      "name": "MOC_MLP.ipynb",
      "provenance": [],
      "collapsed_sections": []
    },
    "kernelspec": {
      "name": "python3",
      "display_name": "Python 3"
    },
    "language_info": {
      "name": "python"
    },
    "accelerator": "GPU"
  },
  "cells": [
    {
      "cell_type": "code",
      "metadata": {
        "id": "JLWR9Xo2GNlp"
      },
      "source": [
        "import tensorflow as tf\n",
        "from tensorflow import keras\n",
        "from tensorflow.keras import models\n",
        "from tensorflow.keras import layers\n",
        "import numpy as np\n",
        "import csv\n",
        "from datetime import datetime\n",
        "from tensorflow.math import confusion_matrix\n",
        "import pandas as pd\n",
        "import random\n",
        "\n",
        "random.seed(42)\n",
        "np.random.seed(42)"
      ],
      "execution_count": 2,
      "outputs": []
    },
    {
      "cell_type": "code",
      "metadata": {
        "id": "RiETLHDnGidC"
      },
      "source": [
        "filename = \"./drive/MyDrive/Novatus/MOC_P1_210929.csv\"\n",
        "product_name = \"T1XX\""
      ],
      "execution_count": 3,
      "outputs": []
    },
    {
      "cell_type": "code",
      "metadata": {
        "id": "tZuTOXRlGYwf"
      },
      "source": [
        "def build_model():\n",
        "    model = models.Sequential()\n",
        "    model.add(layers.Dense(16, activation='relu', input_shape=(6,), name=\"layer1\" ))\n",
        "    model.add(layers.Dense(16, activation='relu', name=\"layer2\"))\n",
        "    model.add(layers.Dense(2, activation='sigmoid', name=\"layer3\"))\n",
        "    model.compile(optimizer='adam', loss='categorical_crossentropy', metrics=['accuracy', tf.keras.metrics.Precision(name='precision'), tf.keras.metrics.Recall(name='recall'), tf.keras.metrics.FalsePositives(name='false_positives'), tf.keras.metrics.FalseNegatives(name='false_negatives')])\n",
        "\n",
        "    return model"
      ],
      "execution_count": 4,
      "outputs": []
    },
    {
      "cell_type": "code",
      "metadata": {
        "id": "fQxoG_j6WrXT"
      },
      "source": [
        "def Shuffle(data, label):\n",
        "\n",
        "    index = np.random.permutation(len(label))\n",
        "\n",
        "    out_data = []\n",
        "    out_label = []\n",
        "    for i in index:\n",
        "        out_data.append(data[i])\n",
        "        out_label.append(label[i])\n",
        "\n",
        "    return out_data, out_label"
      ],
      "execution_count": 5,
      "outputs": []
    },
    {
      "cell_type": "code",
      "metadata": {
        "id": "wKHGVjtkGaA8"
      },
      "source": [
        "def Get_DataFrame(filename, product_name):\n",
        "    df = pd.read_csv(filename).drop(['Unnamed: 0'],axis=1)\n",
        "    df = df[df.columns[[0,1,2,3,4,5,8,11,12,13,14]].tolist()]\n",
        "    df['생산날짜(L)']=pd.to_datetime(df['생산날짜(L)'],format='%Y-%m-%d %H:%M:%S')\n",
        "    df['Tester']=df['Tester'].astype('category')\n",
        "    df['Machine']=df['Machine'].astype('category')\n",
        "    df['판정(L)']=df['판정(L)'].astype('category')\n",
        "    df['작업모델']=df['작업모델'].astype('category')\n",
        "    df = df[df['작업모델']==product_name].reset_index(drop=True).drop('작업모델',axis=1)\n",
        "\n",
        "    df_2021 = df[df['생산날짜(L)'] > pd.to_datetime('2021-1-1')].reset_index(drop=True)\n",
        "\n",
        "    n_sample = int(df_2021[df_2021[\"판정(L)\"] == \"NG\"][\"판정(L)\"].count())\n",
        "\n",
        "    ok_df = df_2021[df_2021['판정(L)'] == 'OK'].sample(n_sample)\n",
        "    ng_df = df_2021[df_2021['판정(L)'] == 'NG'].sample(n_sample)\n",
        "\n",
        "    ok_df.drop(['생산날짜(L)','Machine','Tester'],axis=1,inplace=True)\n",
        "    ng_df.drop(['생산날짜(L)','Machine','Tester'],axis=1,inplace=True)\n",
        "\n",
        "    ok_df[\"판정(L)\"] = 1\n",
        "    ng_df[\"판정(L)\"] = 0\n",
        "\n",
        "    return ok_df, ng_df, n_sample"
      ],
      "execution_count": 6,
      "outputs": []
    },
    {
      "cell_type": "code",
      "metadata": {
        "id": "MNjW-UmCU7PV"
      },
      "source": [
        "def Set_Dataset(ok_df, ng_df, n_sample):\n",
        "    ok_data_samples = ok_df[ok_df.columns[[0,1,2,3,4,5]].tolist()].to_numpy()\n",
        "    ok_label_samples = ok_df[ok_df.columns[[6]].tolist()].to_numpy()\n",
        "    ok_label_samples = ok_label_samples.reshape(ok_label_samples.shape[0])\n",
        "\n",
        "    ok_data_samples, ok_label_samples = Shuffle(ok_data_samples, ok_label_samples)\n",
        "\n",
        "    ng_data_samples = ng_df[ng_df.columns[[0,1,2,3,4,5]].tolist()].to_numpy()\n",
        "    ng_label_samples = ng_df[ng_df.columns[[6]].tolist()].to_numpy()\n",
        "    ng_label_samples = ng_label_samples.reshape(ng_label_samples.shape[0])\n",
        "\n",
        "\n",
        "    ng_data_samples, ng_label_samples = Shuffle(ng_data_samples, ng_label_samples)\n",
        "    \n",
        "    # Train / Test 나누기 (0.8 : 0.2 비율로 하였음)\n",
        "    part = int(n_sample * 0.8)\n",
        "    train_data = np.concatenate([ok_data_samples[:part], ng_data_samples[:part]])\n",
        "    train_label = np.concatenate([ok_label_samples[:part], ng_label_samples[:part]])\n",
        "    train_data, train_label = Shuffle(train_data,  train_label)\n",
        "\n",
        "    test_data = np.concatenate([ok_data_samples[part:], ng_data_samples[part:]])\n",
        "    test_label = np.concatenate([ok_label_samples[part:], ng_label_samples[part:]])\n",
        "    test_data, test_label = Shuffle(test_data, test_label)\n",
        "\n",
        "    # One hot encoding\n",
        "    train_label = tf.one_hot(train_label, 2, axis=-1)\n",
        "    test_label = tf.one_hot(test_label, 2, axis=-1)\n",
        "    print(train_label.shape)\n",
        "    print(test_label.shape)\n",
        "    # Tensor 형태로 convert\n",
        "    train_data = tf.convert_to_tensor(train_data)\n",
        "    train_label = tf.convert_to_tensor(train_label)\n",
        "\n",
        "    test_data = tf.convert_to_tensor(test_data)\n",
        "    test_label = tf.convert_to_tensor(test_label)\n",
        "\n",
        "    return train_data, train_label, test_data, test_label\n",
        "\n",
        "    # train_data = pd.concat( , ng_df[ng_df.columns[[0,1,2,3,4,5]].tolist()].loc[:int(n_sample * 0.8)] ]).to_numpy()\n",
        "    # train_label = pd.concat( [ok_df[ok_df.columns[[6]].tolist()].loc[:int(n_sample * 0.8)], ng_df[ng_df.columns[[6]].tolist()].loc[:int(n_sample * 0.8)]]).to_numpy()\n",
        "    # test_data = pd.concat( [ok_df[ok_df.columns[[0,1,2,3,4,5]].tolist()].loc[int(n_sample * 0.8) :], ng_df[ng_df.columns[[0,1,2,3,4,5]].tolist()].loc[int(n_sample * 0.8) :] ]).to_numpy()\n",
        "    # test_label = pd.concat( [ok_df[ok_df.columns[[6]].tolist()].loc[int(n_sample * 0.8) :], ng_df[ng_df.columns[[6]].tolist()].loc[int(n_sample * 0.8) :] ]).to_numpy()"
      ],
      "execution_count": 7,
      "outputs": []
    },
    {
      "cell_type": "code",
      "metadata": {
        "id": "pel4DSD8G00Q"
      },
      "source": [
        "ok_df, ng_df, n_sample = Get_DataFrame(filename, product_name)"
      ],
      "execution_count": 8,
      "outputs": []
    },
    {
      "cell_type": "code",
      "metadata": {
        "colab": {
          "base_uri": "https://localhost:8080/"
        },
        "id": "CSfFTcqbhUZW",
        "outputId": "62171ca5-3e06-4ac2-e33e-27a940e65f21"
      },
      "source": [
        "print(ok_df.head(5))\n",
        "print(ng_df.head(5))"
      ],
      "execution_count": 9,
      "outputs": [
        {
          "output_type": "stream",
          "name": "stdout",
          "text": [
            "        가압력(kgf)  융착깊이(mm)  에너지(J)  절대거리(mm)  주파수변화  최대출력(%)  판정(L)\n",
            "753585     106.0      1.18  1310.0     34.92   14.0     72.6      1\n",
            "25681      110.0      1.18  1626.0     28.89    6.0    109.1      1\n",
            "838866     128.0      1.36  1480.0     35.23   12.0     70.8      1\n",
            "577313     122.0      1.30  1984.0     33.22   24.0     83.1      1\n",
            "969641     126.0      1.38  1749.0     29.49    2.0    115.5      1\n",
            "        가압력(kgf)  융착깊이(mm)  에너지(J)  절대거리(mm)  주파수변화  최대출력(%)  판정(L)\n",
            "21871      121.0      1.28  1683.0     30.88    2.0     87.4      0\n",
            "954784     108.0      1.13  1846.0     30.71    4.0    133.5      0\n",
            "210752     123.0      1.32  1483.0     27.89    1.0     69.2      0\n",
            "926599     124.0      1.30  1970.0     30.80    2.0    133.7      0\n",
            "546618     121.0      1.28  1897.0     30.08    3.0     87.9      0\n"
          ]
        }
      ]
    },
    {
      "cell_type": "code",
      "metadata": {
        "colab": {
          "base_uri": "https://localhost:8080/"
        },
        "id": "db96KJEZM1KT",
        "outputId": "07193994-c1e2-4002-c629-d159d2c36779"
      },
      "source": [
        "train_data, train_label, test_data, test_label = Set_Dataset(ok_df, ng_df, n_sample)"
      ],
      "execution_count": 10,
      "outputs": [
        {
          "output_type": "stream",
          "name": "stdout",
          "text": [
            "(61412, 2)\n",
            "(15354, 2)\n"
          ]
        }
      ]
    },
    {
      "cell_type": "code",
      "metadata": {
        "colab": {
          "base_uri": "https://localhost:8080/"
        },
        "id": "rDroUb47Xrhs",
        "outputId": "88b12c7a-af9d-4ed6-ac8b-9605d77ecca0"
      },
      "source": [
        "print(\"build model\")\n",
        "model = build_model()  # 새롭게 컴파일된 모델을 얻습니다."
      ],
      "execution_count": 11,
      "outputs": [
        {
          "output_type": "stream",
          "name": "stdout",
          "text": [
            "build model\n"
          ]
        }
      ]
    },
    {
      "cell_type": "code",
      "metadata": {
        "colab": {
          "base_uri": "https://localhost:8080/"
        },
        "id": "g1UPNFiXXvnh",
        "outputId": "2c6a2639-9ee5-4913-a1a7-2808dcc11e12"
      },
      "source": [
        "print(\"training model...\")\n",
        "hist = model.fit(train_data, train_label, epochs=100, batch_size=16, verbose=0)"
      ],
      "execution_count": 12,
      "outputs": [
        {
          "output_type": "stream",
          "name": "stdout",
          "text": [
            "training model...\n"
          ]
        }
      ]
    },
    {
      "cell_type": "code",
      "metadata": {
        "colab": {
          "base_uri": "https://localhost:8080/"
        },
        "id": "bYH3mENycX8N",
        "outputId": "51827754-5327-492b-865a-de220da3c0cc"
      },
      "source": [
        "eva_result = model.evaluate(test_data, test_label)"
      ],
      "execution_count": 13,
      "outputs": [
        {
          "output_type": "stream",
          "name": "stdout",
          "text": [
            "480/480 [==============================] - 3s 5ms/step - loss: 0.6586 - accuracy: 0.6072 - precision: 0.6450 - recall: 0.2168 - false_positives: 1832.0000 - false_negatives: 12025.0000\n"
          ]
        }
      ]
    },
    {
      "cell_type": "code",
      "metadata": {
        "colab": {
          "base_uri": "https://localhost:8080/"
        },
        "id": "QNTEga-icZ6H",
        "outputId": "3a144ed9-b645-4b14-d852-d9739e3ab95e"
      },
      "source": [
        "print(\"loss, acc, precision, recall, falsepositives, falsenegatives:\", eva_result)"
      ],
      "execution_count": 14,
      "outputs": [
        {
          "output_type": "stream",
          "name": "stdout",
          "text": [
            "loss, acc, precision, recall, falsepositives, falsenegatives: [0.6585863828659058, 0.6072033643722534, 0.6450300216674805, 0.2168164700269699, 1832.0, 12025.0]\n"
          ]
        }
      ]
    },
    {
      "cell_type": "code",
      "metadata": {
        "colab": {
          "base_uri": "https://localhost:8080/"
        },
        "id": "D0Gmjlmual73",
        "outputId": "d320011c-f7a9-4d12-e090-5d4861264628"
      },
      "source": [
        "saved_model = keras.models.load_model(\"./T1XX_model_2021_confusion\")"
      ],
      "execution_count": 21,
      "outputs": [
        {
          "output_type": "stream",
          "name": "stdout",
          "text": [
            "WARNING:tensorflow:SavedModel saved prior to TF 2.5 detected when loading Keras model. Please ensure that you are saving the model with model.save() or tf.keras.models.save_model(), *NOT* tf.saved_model.save(). To confirm, there should be a file named \"keras_metadata.pb\" in the SavedModel directory.\n"
          ]
        }
      ]
    },
    {
      "cell_type": "code",
      "metadata": {
        "colab": {
          "base_uri": "https://localhost:8080/"
        },
        "id": "nIRVhVjFbwce",
        "outputId": "76485448-d13a-4d27-9417-21c4c3d2194d"
      },
      "source": [
        "saved_eva_result = saved_model.evaluate(test_data, test_label)"
      ],
      "execution_count": 22,
      "outputs": [
        {
          "output_type": "stream",
          "name": "stdout",
          "text": [
            "480/480 [==============================] - 3s 5ms/step - loss: 1.6998 - precision: 0.5000 - recall: 0.5000 - false_positives: 7677.0000 - false_negatives: 7677.0000\n"
          ]
        }
      ]
    }
  ]
}